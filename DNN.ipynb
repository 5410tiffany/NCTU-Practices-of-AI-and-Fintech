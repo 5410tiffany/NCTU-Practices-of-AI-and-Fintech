{
 "cells": [
  {
   "cell_type": "code",
   "execution_count": 1,
   "metadata": {},
   "outputs": [],
   "source": [
    "import numpy as np \n",
    "import matplotlib.pyplot as plt\n",
    "import random\n",
    "import math\n",
    "import pdb"
   ]
  },
  {
   "cell_type": "code",
   "execution_count": 2,
   "metadata": {},
   "outputs": [
    {
     "data": {
      "text/plain": [
       "<matplotlib.image.AxesImage at 0x7f6452a4a710>"
      ]
     },
     "execution_count": 2,
     "metadata": {},
     "output_type": "execute_result"
    },
    {
     "data": {
      "image/png": "[encoded data removed]",
      "text/plain": [
       "<Figure size 432x288 with 1 Axes>"
      ]
     },
     "metadata": {
      "needs_background": "light"
     },
     "output_type": "display_data"
    }
   ],
   "source": [
    "\n",
    "npzfile = np.load('data/CBCL.npz')\n",
    "\n",
    "\n",
    "trainface = npzfile['arr_0'] # 2429, 361\n",
    "trainnonface = npzfile['arr_1']\n",
    "testface = npzfile['arr_2']\n",
    "testnonface = npzfile['arr_3']\n",
    "trainface.shape\n",
    "\n",
    "\n",
    "face1 = trainface[400,:].reshape((19,19)) # 2400th image \n",
    "plt.imshow(face1, cmap = 'gray')"
   ]
  },
  {
   "cell_type": "code",
   "execution_count": 3,
   "metadata": {},
   "outputs": [
    {
     "name": "stdout",
     "output_type": "stream",
     "text": [
      "(2429, 361)\n",
      "(4548, 361)\n"
     ]
    }
   ],
   "source": [
    "# preprocess\n",
    "print(trainface.shape)\n",
    "print(trainnonface.shape)"
   ]
  },
  {
   "cell_type": "markdown",
   "metadata": {},
   "source": [
    "![title](data/dnn.jpeg)"
   ]
  },
  {
   "cell_type": "code",
   "execution_count": 4,
   "metadata": {},
   "outputs": [],
   "source": [
    "def sigmoid(x):\n",
    "    return 1/(1+np.exp(-x))\n",
    "\n",
    "# def forward(feature, s, WI, WO, i):  \n",
    "#     # input -> hidden\n",
    "#     ins = np.append(feature[s[i],:],1)\n",
    "#     ho = ins.dot(WI) #h = aw + w0\n",
    "#     ho = sigmoid(ho) # activation func.\n",
    "\n",
    "#     # hidden -> output\n",
    "#     hs = np.append(ho,1) \n",
    "#     out = hs.dot(WO) \n",
    "#     out = sigmoid(out)\n",
    "#     return out, ho, hs\n",
    "\n",
    "def BPNNtrain(pf, nf, hn, lr, iteration): # hn = hidden nodes\n",
    "    pn = pf.shape[0]# 2429, positive num\n",
    "    nn = nf.shape[0]# 4548, negative num\n",
    "    fn = pf.shape[1]# 361, feature num\n",
    "    num = pn + nn # data size\n",
    "    \n",
    "    feature = np.append(pf,nf,axis=0)\n",
    "    target = np.append(np.ones((pn,1)),np.zeros((nn,1)),axis=0) # ans: 1=p; 0=n;\n",
    "    \n",
    "    # init weight\n",
    "    WI = np.random.normal(0,1,(fn+1,hn)) # input weight(before hn); +1 = b\n",
    "    WO = np.random.normal(0,1,(hn+1,1)) # output weight(after hn); +1 = b\n",
    "\n",
    "    for t in range(iteration): # for each epoch\n",
    "        s = random.sample(range(num), num) # random shuffle index\n",
    "        \n",
    "        for i in range(num): # for each output unit k\n",
    "            \n",
    "            # foward pass\n",
    "            # input -> hidden\n",
    "            ins = np.append(feature[s[i],:],1)\n",
    "            ho = ins.dot(WI) #h = aw + w0\n",
    "            ho = sigmoid(ho) # activation func.\n",
    "            \n",
    "            # hidden -> output\n",
    "            hs = np.append(ho,1) \n",
    "            out = hs.dot(WO) \n",
    "            out = sigmoid(out)\n",
    "            \n",
    "            # BP\n",
    "            #pdb.set_trace()\n",
    "            dk = out * (1-out) * (target[s[i]]-out) # 2. cal delta k\n",
    "            dh = ho * (1-ho) * WO[:hn, 0] * dk # 3.  cal delta h\n",
    "            \n",
    "            # update net w\n",
    "            WO[:,0] += lr * dk * hs \n",
    "            for j in range(hn):\n",
    "                WI[:,j] += lr * dh[j] * ins\n",
    "    return WI, WO, ho"
   ]
  },
  {
   "cell_type": "code",
   "execution_count": 5,
   "metadata": {},
   "outputs": [],
   "source": [
    "def BPNNtest(feature, WI, WO):\n",
    "    sn = feature.shape[0]\n",
    "    hn = WI.shape[1]\n",
    "    output = np.zeros((sn, 1))\n",
    "    for i in range(sn):\n",
    "        ins = np.append(feature[i,:],1)\n",
    "        ho = ins.dot(WI)\n",
    "        ho = sigmoid(ho)\n",
    "        \n",
    "        hs = np.append(ho, 1)\n",
    "        output[i] = hs.dot(WO)\n",
    "        output[i] = sigmoid(output[i])\n",
    "    return output"
   ]
  },
  {
   "cell_type": "code",
   "execution_count": 6,
   "metadata": {},
   "outputs": [],
   "source": [
    "def ROCcurve(pscore, nscore):\n",
    "    pn = np.shape(pscore)[0]\n",
    "    nn = np.shape(nscore)[0]\n",
    "    FPR = np.zeros((1001,1))\n",
    "    TPR = np.zeros((1001,1))\n",
    "\n",
    "    for i in range(1001):\n",
    "        thres = i/1000\n",
    "        FPR[i] = np.sum(nscore >= thres)/nn\n",
    "        TPR[i] = np.sum(pscore >= thres)/pn\n",
    "    return FPR, TPR"
   ]
  },
  {
   "cell_type": "markdown",
   "metadata": {},
   "source": [
    "# main"
   ]
  },
  {
   "cell_type": "code",
   "execution_count": 7,
   "metadata": {},
   "outputs": [
    {
     "name": "stdout",
     "output_type": "stream",
     "text": [
      "> <ipython-input-4-db2d03f1b4f5>(47)BPNNtrain()\n",
      "-> dk = out * (1-out) * (target[s[i]]-out) # 2. cal delta k\n",
      "(Pdb) q\n"
     ]
    },
    {
     "ename": "BdbQuit",
     "evalue": "",
     "output_type": "error",
     "traceback": [
      "\u001b[0;31m---------------------------------------------------------------------------\u001b[0m",
      "\u001b[0;31mBdbQuit\u001b[0m                                   Traceback (most recent call last)",
      "\u001b[0;32m<ipython-input-7-3aac4ee8899b>\u001b[0m in \u001b[0;36m<module>\u001b[0;34m\u001b[0m\n\u001b[0;32m----> 1\u001b[0;31m \u001b[0mWI\u001b[0m\u001b[0;34m,\u001b[0m \u001b[0mWO\u001b[0m\u001b[0;34m,\u001b[0m \u001b[0mho\u001b[0m \u001b[0;34m=\u001b[0m \u001b[0mBPNNtrain\u001b[0m\u001b[0;34m(\u001b[0m\u001b[0mtrainface\u001b[0m\u001b[0;34m/\u001b[0m\u001b[0;36m255\u001b[0m\u001b[0;34m,\u001b[0m \u001b[0mtrainnonface\u001b[0m\u001b[0;34m/\u001b[0m\u001b[0;36m255\u001b[0m\u001b[0;34m,\u001b[0m \u001b[0;36m20\u001b[0m\u001b[0;34m,\u001b[0m \u001b[0;36m0.01\u001b[0m\u001b[0;34m,\u001b[0m\u001b[0;36m10\u001b[0m\u001b[0;34m)\u001b[0m\u001b[0;34m\u001b[0m\u001b[0;34m\u001b[0m\u001b[0m\n\u001b[0m",
      "\u001b[0;32m<ipython-input-4-db2d03f1b4f5>\u001b[0m in \u001b[0;36mBPNNtrain\u001b[0;34m(pf, nf, hn, lr, iteration)\u001b[0m\n\u001b[1;32m     45\u001b[0m             \u001b[0;31m# BP\u001b[0m\u001b[0;34m\u001b[0m\u001b[0;34m\u001b[0m\u001b[0;34m\u001b[0m\u001b[0m\n\u001b[1;32m     46\u001b[0m             \u001b[0mpdb\u001b[0m\u001b[0;34m.\u001b[0m\u001b[0mset_trace\u001b[0m\u001b[0;34m(\u001b[0m\u001b[0;34m)\u001b[0m\u001b[0;34m\u001b[0m\u001b[0;34m\u001b[0m\u001b[0m\n\u001b[0;32m---> 47\u001b[0;31m             \u001b[0mdk\u001b[0m \u001b[0;34m=\u001b[0m \u001b[0mout\u001b[0m \u001b[0;34m*\u001b[0m \u001b[0;34m(\u001b[0m\u001b[0;36m1\u001b[0m\u001b[0;34m-\u001b[0m\u001b[0mout\u001b[0m\u001b[0;34m)\u001b[0m \u001b[0;34m*\u001b[0m \u001b[0;34m(\u001b[0m\u001b[0mtarget\u001b[0m\u001b[0;34m[\u001b[0m\u001b[0ms\u001b[0m\u001b[0;34m[\u001b[0m\u001b[0mi\u001b[0m\u001b[0;34m]\u001b[0m\u001b[0;34m]\u001b[0m\u001b[0;34m-\u001b[0m\u001b[0mout\u001b[0m\u001b[0;34m)\u001b[0m \u001b[0;31m# 2. cal delta k\u001b[0m\u001b[0;34m\u001b[0m\u001b[0;34m\u001b[0m\u001b[0m\n\u001b[0m\u001b[1;32m     48\u001b[0m             \u001b[0mdh\u001b[0m \u001b[0;34m=\u001b[0m \u001b[0mho\u001b[0m \u001b[0;34m*\u001b[0m \u001b[0;34m(\u001b[0m\u001b[0;36m1\u001b[0m\u001b[0;34m-\u001b[0m\u001b[0mho\u001b[0m\u001b[0;34m)\u001b[0m \u001b[0;34m*\u001b[0m \u001b[0mWO\u001b[0m\u001b[0;34m[\u001b[0m\u001b[0;34m:\u001b[0m\u001b[0mhn\u001b[0m\u001b[0;34m,\u001b[0m \u001b[0;36m0\u001b[0m\u001b[0;34m]\u001b[0m \u001b[0;34m*\u001b[0m \u001b[0mdk\u001b[0m \u001b[0;31m# 3.  cal delta h\u001b[0m\u001b[0;34m\u001b[0m\u001b[0;34m\u001b[0m\u001b[0m\n\u001b[1;32m     49\u001b[0m \u001b[0;34m\u001b[0m\u001b[0m\n",
      "\u001b[0;32m<ipython-input-4-db2d03f1b4f5>\u001b[0m in \u001b[0;36mBPNNtrain\u001b[0;34m(pf, nf, hn, lr, iteration)\u001b[0m\n\u001b[1;32m     45\u001b[0m             \u001b[0;31m# BP\u001b[0m\u001b[0;34m\u001b[0m\u001b[0;34m\u001b[0m\u001b[0;34m\u001b[0m\u001b[0m\n\u001b[1;32m     46\u001b[0m             \u001b[0mpdb\u001b[0m\u001b[0;34m.\u001b[0m\u001b[0mset_trace\u001b[0m\u001b[0;34m(\u001b[0m\u001b[0;34m)\u001b[0m\u001b[0;34m\u001b[0m\u001b[0;34m\u001b[0m\u001b[0m\n\u001b[0;32m---> 47\u001b[0;31m             \u001b[0mdk\u001b[0m \u001b[0;34m=\u001b[0m \u001b[0mout\u001b[0m \u001b[0;34m*\u001b[0m \u001b[0;34m(\u001b[0m\u001b[0;36m1\u001b[0m\u001b[0;34m-\u001b[0m\u001b[0mout\u001b[0m\u001b[0;34m)\u001b[0m \u001b[0;34m*\u001b[0m \u001b[0;34m(\u001b[0m\u001b[0mtarget\u001b[0m\u001b[0;34m[\u001b[0m\u001b[0ms\u001b[0m\u001b[0;34m[\u001b[0m\u001b[0mi\u001b[0m\u001b[0;34m]\u001b[0m\u001b[0;34m]\u001b[0m\u001b[0;34m-\u001b[0m\u001b[0mout\u001b[0m\u001b[0;34m)\u001b[0m \u001b[0;31m# 2. cal delta k\u001b[0m\u001b[0;34m\u001b[0m\u001b[0;34m\u001b[0m\u001b[0m\n\u001b[0m\u001b[1;32m     48\u001b[0m             \u001b[0mdh\u001b[0m \u001b[0;34m=\u001b[0m \u001b[0mho\u001b[0m \u001b[0;34m*\u001b[0m \u001b[0;34m(\u001b[0m\u001b[0;36m1\u001b[0m\u001b[0;34m-\u001b[0m\u001b[0mho\u001b[0m\u001b[0;34m)\u001b[0m \u001b[0;34m*\u001b[0m \u001b[0mWO\u001b[0m\u001b[0;34m[\u001b[0m\u001b[0;34m:\u001b[0m\u001b[0mhn\u001b[0m\u001b[0;34m,\u001b[0m \u001b[0;36m0\u001b[0m\u001b[0;34m]\u001b[0m \u001b[0;34m*\u001b[0m \u001b[0mdk\u001b[0m \u001b[0;31m# 3.  cal delta h\u001b[0m\u001b[0;34m\u001b[0m\u001b[0;34m\u001b[0m\u001b[0m\n\u001b[1;32m     49\u001b[0m \u001b[0;34m\u001b[0m\u001b[0m\n",
      "\u001b[0;32m/opt/anaconda3/lib/python3.7/bdb.py\u001b[0m in \u001b[0;36mtrace_dispatch\u001b[0;34m(self, frame, event, arg)\u001b[0m\n\u001b[1;32m     86\u001b[0m             \u001b[0;32mreturn\u001b[0m \u001b[0;31m# None\u001b[0m\u001b[0;34m\u001b[0m\u001b[0;34m\u001b[0m\u001b[0m\n\u001b[1;32m     87\u001b[0m         \u001b[0;32mif\u001b[0m \u001b[0mevent\u001b[0m \u001b[0;34m==\u001b[0m \u001b[0;34m'line'\u001b[0m\u001b[0;34m:\u001b[0m\u001b[0;34m\u001b[0m\u001b[0;34m\u001b[0m\u001b[0m\n\u001b[0;32m---> 88\u001b[0;31m             \u001b[0;32mreturn\u001b[0m \u001b[0mself\u001b[0m\u001b[0;34m.\u001b[0m\u001b[0mdispatch_line\u001b[0m\u001b[0;34m(\u001b[0m\u001b[0mframe\u001b[0m\u001b[0;34m)\u001b[0m\u001b[0;34m\u001b[0m\u001b[0;34m\u001b[0m\u001b[0m\n\u001b[0m\u001b[1;32m     89\u001b[0m         \u001b[0;32mif\u001b[0m \u001b[0mevent\u001b[0m \u001b[0;34m==\u001b[0m \u001b[0;34m'call'\u001b[0m\u001b[0;34m:\u001b[0m\u001b[0;34m\u001b[0m\u001b[0;34m\u001b[0m\u001b[0m\n\u001b[1;32m     90\u001b[0m             \u001b[0;32mreturn\u001b[0m \u001b[0mself\u001b[0m\u001b[0;34m.\u001b[0m\u001b[0mdispatch_call\u001b[0m\u001b[0;34m(\u001b[0m\u001b[0mframe\u001b[0m\u001b[0;34m,\u001b[0m \u001b[0marg\u001b[0m\u001b[0;34m)\u001b[0m\u001b[0;34m\u001b[0m\u001b[0;34m\u001b[0m\u001b[0m\n",
      "\u001b[0;32m/opt/anaconda3/lib/python3.7/bdb.py\u001b[0m in \u001b[0;36mdispatch_line\u001b[0;34m(self, frame)\u001b[0m\n\u001b[1;32m    111\u001b[0m         \u001b[0;32mif\u001b[0m \u001b[0mself\u001b[0m\u001b[0;34m.\u001b[0m\u001b[0mstop_here\u001b[0m\u001b[0;34m(\u001b[0m\u001b[0mframe\u001b[0m\u001b[0;34m)\u001b[0m \u001b[0;32mor\u001b[0m \u001b[0mself\u001b[0m\u001b[0;34m.\u001b[0m\u001b[0mbreak_here\u001b[0m\u001b[0;34m(\u001b[0m\u001b[0mframe\u001b[0m\u001b[0;34m)\u001b[0m\u001b[0;34m:\u001b[0m\u001b[0;34m\u001b[0m\u001b[0;34m\u001b[0m\u001b[0m\n\u001b[1;32m    112\u001b[0m             \u001b[0mself\u001b[0m\u001b[0;34m.\u001b[0m\u001b[0muser_line\u001b[0m\u001b[0;34m(\u001b[0m\u001b[0mframe\u001b[0m\u001b[0;34m)\u001b[0m\u001b[0;34m\u001b[0m\u001b[0;34m\u001b[0m\u001b[0m\n\u001b[0;32m--> 113\u001b[0;31m             \u001b[0;32mif\u001b[0m \u001b[0mself\u001b[0m\u001b[0;34m.\u001b[0m\u001b[0mquitting\u001b[0m\u001b[0;34m:\u001b[0m \u001b[0;32mraise\u001b[0m \u001b[0mBdbQuit\u001b[0m\u001b[0;34m\u001b[0m\u001b[0;34m\u001b[0m\u001b[0m\n\u001b[0m\u001b[1;32m    114\u001b[0m         \u001b[0;32mreturn\u001b[0m \u001b[0mself\u001b[0m\u001b[0;34m.\u001b[0m\u001b[0mtrace_dispatch\u001b[0m\u001b[0;34m\u001b[0m\u001b[0;34m\u001b[0m\u001b[0m\n\u001b[1;32m    115\u001b[0m \u001b[0;34m\u001b[0m\u001b[0m\n",
      "\u001b[0;31mBdbQuit\u001b[0m: "
     ]
    }
   ],
   "source": [
    "WI, WO, ho = BPNNtrain(trainface/255, trainnonface/255, 20, 0.01,10)"
   ]
  },
  {
   "cell_type": "code",
   "execution_count": null,
   "metadata": {},
   "outputs": [],
   "source": [
    "eval_pscore = BPNNtest(trainface/255, WI, WO)\n",
    "eval_nscore = BPNNtest(trainnonface/255, WI, WO)\n",
    "FPR, TPR = ROCcurve(eval_pscore, eval_nscore)\n",
    "\n",
    "plt.title('ROC curve')\n",
    "plt.plot(FPR, TPR, label='train')\n",
    "\n",
    "\n",
    "eval_test_pscore = BPNNtest(testface/255, WI, WO)\n",
    "eval_test_nscore = BPNNtest(testnonface/255, WI, WO)\n",
    "\n",
    "FPR, TPR = ROCcurve(eval_test_pscore, eval_test_nscore)\n",
    "\n",
    "# plt.title('ROC curve')\n",
    "plt.plot(FPR, TPR, label='test')\n",
    "plt.legend(loc='best')\n",
    "plt.show()\n"
   ]
  },
  {
   "cell_type": "code",
   "execution_count": null,
   "metadata": {},
   "outputs": [],
   "source": []
  }
 ],
 "metadata": {
  "kernelspec": {
   "display_name": "Python 3",
   "language": "python",
   "name": "python3"
  },
  "language_info": {
   "codemirror_mode": {
    "name": "ipython",
    "version": 3
   },
   "file_extension": ".py",
   "mimetype": "text/x-python",
   "name": "python",
   "nbconvert_exporter": "python",
   "pygments_lexer": "ipython3",
   "version": "3.7.7"
  }
 },
 "nbformat": 4,
 "nbformat_minor": 4
}
