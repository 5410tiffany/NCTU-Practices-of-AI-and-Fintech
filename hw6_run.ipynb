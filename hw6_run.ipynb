{
 "cells": [
  {
   "cell_type": "markdown",
   "metadata": {},
   "source": [
    "# Q1. K-means"
   ]
  },
  {
   "cell_type": "code",
   "execution_count": 2,
   "metadata": {},
   "outputs": [
    {
     "data": {
      "image/png": "[encoded data removed]",
      "text/plain": [
       "<Figure size 432x432 with 1 Axes>"
      ]
     },
     "metadata": {
      "needs_background": "light"
     },
     "output_type": "display_data"
    }
   ],
   "source": [
    "# -*- coding: utf-8 -*-\n",
    "\"\"\"\n",
    "Created on Wed Nov  4 19:05:41 2020\n",
    "\n",
    "@author: TiffanyHsiao\n",
    "\"\"\"\n",
    "import matplotlib.pyplot as plt\n",
    "import numpy as np\n",
    "import math\n",
    "import random\n",
    "import pdb\n",
    "# mean shifting\n",
    "G1_x = np.random.normal(4, 1, (5000,))\n",
    "G1_y = np.random.normal(4, 1, (5000,))\n",
    "G1 = np.concatenate((G1_x.reshape(-1,1), G1_y.reshape(-1,1)), axis =1)\n",
    "\n",
    "G2_x = np.random.normal(0, 1, (3000,))\n",
    "G2_y = np.random.normal(-3, 3, (3000,))\n",
    "G2 = np.concatenate((G2_x.reshape(-1,1), G2_y.reshape(-1,1)), axis =1)\n",
    "\n",
    "G3_x = np.random.normal(-4, 1, (2000,))\n",
    "G3_y = np.random.normal(6, 4, (2000,))\n",
    "G3 = np.concatenate((G3_x.reshape(-1,1), G3_y.reshape(-1,1)), axis =1)\n",
    "\n",
    "cos45 = math.cos(-45/180*math.pi)\n",
    "sin45 = math.sin(-45/180*math.pi)\n",
    "R = [[cos45, -sin45], [sin45, cos45]]\n",
    "G3 = G3.dot(R)\n",
    "\n",
    "G = np.concatenate((G1, G2, G3))\n",
    "#%%\n",
    "plt.figure(figsize=(6,6))\n",
    "plt.scatter(G1_x, G1_y, c = 'r')\n",
    "plt.scatter(G2_x, G2_y, c='g')\n",
    "plt.scatter(G3[:,0], G3[:,1], c='b')\n",
    "\n",
    "plt.show()\n",
    "\n"
   ]
  },
  {
   "cell_type": "code",
   "execution_count": 81,
   "metadata": {},
   "outputs": [
    {
     "name": "stdout",
     "output_type": "stream",
     "text": [
      "10000\n",
      "21\n"
     ]
    },
    {
     "data": {
      "image/png": "[encoded data removed]",
      "text/plain": [
       "<Figure size 432x288 with 1 Axes>"
      ]
     },
     "metadata": {
      "needs_background": "light"
     },
     "output_type": "display_data"
    },
    {
     "data": {
      "text/plain": [
       "0"
      ]
     },
     "execution_count": 81,
     "metadata": {},
     "output_type": "execute_result"
    }
   ],
   "source": [
    "#%%\n",
    "def kmeans(sample, K, maxiter):\n",
    "    N = sample.shape[0] # num of data\n",
    "    print(N)\n",
    "    D = sample.shape[1] # dimensions\n",
    "    L = np.zeros((N, 1)) # label\n",
    "    L1 = np.zeros((N, 1)) # label restore -> if same, converge\n",
    "    dist = np.zeros((N,K)) # store distance of (sample - center) \n",
    "    idx = random.sample(range(N), K)\n",
    "    C = sample[idx,:] # random select a sample as center\n",
    "    # pdb.set_trace()\n",
    "    iter = 0\n",
    "    \n",
    "    while(iter< maxiter):\n",
    "        for i in range(K): # iterat each center\n",
    "            dist[:,i] = np.sum((sample - np.tile(C[i,:], (N,1)))**2, axis = 1) # sum up x_dist^2 and y_dist^2 \n",
    "        L = np.argmin(dist,1)\n",
    "        if(np.array_equal(L1, L)): break\n",
    "        L1 = L\n",
    "        \n",
    "        # find new C: by finding mean of a new calculated group\n",
    "        for i in range(K):\n",
    "            idx = np.nonzero(L == i)[0]\n",
    "            # pdb.set_trace()\n",
    "            if(len(idx) > 0):\n",
    "                C[i,:] = np.mean(sample[idx, :], 0)\n",
    "            iter += 1\n",
    "        \n",
    "    print(iter)\n",
    "    return C, L\n",
    "\n",
    "\n",
    "def plot_labels(GC, GL, G):\n",
    "    \n",
    "    idx = np.nonzero(GL==0)[0]\n",
    "    GG1 = G[idx, :]\n",
    "\n",
    "    idx = np.nonzero(GL==1)[0]\n",
    "    GG2 = G[idx, :]\n",
    "\n",
    "    idx = np.nonzero(GL==2)[0]\n",
    "    GG3 = G[idx, :]\n",
    "\n",
    "    plt.scatter(GG1[:,0], GG1[:,1,])\n",
    "    plt.scatter(GG2[:,0], GG2[:,1,])\n",
    "    plt.scatter(GG3[:,0], GG3[:,1,])\n",
    "    plt.show()\n",
    "    return 0 \n",
    "\n",
    "GC, GL = kmeans(G, 3, 100)\n",
    "plot_labels(GC, GL, G)\n"
   ]
  },
  {
   "cell_type": "markdown",
   "metadata": {},
   "source": [
    "# Q2 KNN"
   ]
  },
  {
   "cell_type": "code",
   "execution_count": 12,
   "metadata": {},
   "outputs": [
    {
     "name": "stdout",
     "output_type": "stream",
     "text": [
      "2\n"
     ]
    }
   ],
   "source": [
    "import collections\n",
    "from sklearn import datasets\n",
    "iris = datasets.load_iris()\n",
    "\n",
    "x = iris.data\n",
    "y = iris.target\n",
    "\n",
    "x1 = x[:149, :]\n",
    "y1 = y[:149]\n",
    "x2 = x[149:, :]\n",
    "\n",
    "def knn(test,train,target,K):\n",
    "    N = train.shape[0]\n",
    "    dist = np.sum((train - np.tile(test, (N, 1)))**2, 1) # get 149 distances\n",
    "    idx = sorted(range(len(dist)), key = lambda i: dist[i])[0:K] # sort distance\n",
    "    return collections.Counter(target[idx]).most_common(1)[0][0]\n",
    "\n",
    "print(knn(x2, x1, y1, 10)) # 10: decide based on 10 nearest neighbors"
   ]
  },
  {
   "cell_type": "markdown",
   "metadata": {},
   "source": [
    "# hw6= Q1"
   ]
  },
  {
   "cell_type": "markdown",
   "metadata": {},
   "source": [
    "# preprocessing"
   ]
  },
  {
   "cell_type": "code",
   "execution_count": 96,
   "metadata": {},
   "outputs": [
    {
     "name": "stdout",
     "output_type": "stream",
     "text": [
      "150\n",
      "51\n",
      "150\n",
      "18\n",
      "150\n",
      "12\n"
     ]
    },
    {
     "data": {
      "image/png": "[encoded data removed]",
      "text/plain": [
       "<Figure size 432x288 with 1 Axes>"
      ]
     },
     "metadata": {
      "needs_background": "light"
     },
     "output_type": "display_data"
    },
    {
     "data": {
      "image/png": "[encoded data removed]",
      "text/plain": [
       "<Figure size 432x288 with 1 Axes>"
      ]
     },
     "metadata": {
      "needs_background": "light"
     },
     "output_type": "display_data"
    },
    {
     "data": {
      "image/png": "[encoded data removed]",
      "text/plain": [
       "<Figure size 432x288 with 1 Axes>"
      ]
     },
     "metadata": {
      "needs_background": "light"
     },
     "output_type": "display_data"
    },
    {
     "data": {
      "image/png": "[encoded data removed]",
      "text/plain": [
       "<Figure size 432x288 with 1 Axes>"
      ]
     },
     "metadata": {
      "needs_background": "light"
     },
     "output_type": "display_data"
    },
    {
     "data": {
      "text/plain": [
       "0"
      ]
     },
     "execution_count": 96,
     "metadata": {},
     "output_type": "execute_result"
    }
   ],
   "source": [
    "x_min = x.min(axis=0)\n",
    "x_max = x.max(axis=0)\n",
    "x_mean = x.mean(axis=0)\n",
    "x_std = x.std(axis=0)\n",
    "\n",
    "# scaling (minmax)\n",
    "nom = x - np.tile(x_min, (x.shape[0], 1))\n",
    "denom = x_max - x_min\n",
    "x_scaling = nom / denom\n",
    "\n",
    "# standard score\n",
    "nom = x - np.tile(x_mean, (x.shape[0], 1))\n",
    "x_ss = nom / x_std\n",
    "\n",
    "x_GC, x_GL = kmeans(x, 3, 100)\n",
    "x_scalingGC, x_scalingGL = kmeans(x_scaling, 3, 100)\n",
    "x_ssGC, x_ssGL = kmeans(x_ss, 3, 100)\n",
    "\n",
    "plt.title('true label')\n",
    "plot_labels(0, y, x)\n",
    "plt.title('k-means: raw x')\n",
    "plot_labels(x_GC, x_GL, x)\n",
    "plt.title('k-menas: scaling')\n",
    "plot_labels(x_scalingGC, x_scalingGL, x)\n",
    "plt.title('k-means: standard score')\n",
    "plot_labels(x_ssGC, x_ssGL, x)"
   ]
  },
  {
   "cell_type": "code",
   "execution_count": 92,
   "metadata": {},
   "outputs": [
    {
     "data": {
      "text/plain": [
       "array([[1, 0],\n",
       "       [1, 0],\n",
       "       [1, 0],\n",
       "       [1, 0],\n",
       "       [1, 0],\n",
       "       [1, 0],\n",
       "       [1, 0],\n",
       "       [1, 0],\n",
       "       [1, 0],\n",
       "       [1, 0],\n",
       "       [1, 0],\n",
       "       [1, 0],\n",
       "       [1, 0],\n",
       "       [1, 0],\n",
       "       [1, 0],\n",
       "       [1, 0],\n",
       "       [1, 0],\n",
       "       [1, 0],\n",
       "       [1, 0],\n",
       "       [1, 0],\n",
       "       [1, 0],\n",
       "       [1, 0],\n",
       "       [1, 0],\n",
       "       [1, 0],\n",
       "       [1, 0],\n",
       "       [1, 0],\n",
       "       [1, 0],\n",
       "       [1, 0],\n",
       "       [1, 0],\n",
       "       [1, 0],\n",
       "       [1, 0],\n",
       "       [1, 0],\n",
       "       [1, 0],\n",
       "       [1, 0],\n",
       "       [1, 0],\n",
       "       [1, 0],\n",
       "       [1, 0],\n",
       "       [1, 0],\n",
       "       [1, 0],\n",
       "       [1, 0],\n",
       "       [1, 0],\n",
       "       [1, 0],\n",
       "       [1, 0],\n",
       "       [1, 0],\n",
       "       [1, 0],\n",
       "       [1, 0],\n",
       "       [1, 0],\n",
       "       [1, 0],\n",
       "       [1, 0],\n",
       "       [1, 0],\n",
       "       [0, 1],\n",
       "       [2, 1],\n",
       "       [0, 1],\n",
       "       [2, 1],\n",
       "       [2, 1],\n",
       "       [2, 1],\n",
       "       [2, 1],\n",
       "       [2, 1],\n",
       "       [2, 1],\n",
       "       [2, 1],\n",
       "       [2, 1],\n",
       "       [2, 1],\n",
       "       [2, 1],\n",
       "       [2, 1],\n",
       "       [2, 1],\n",
       "       [2, 1],\n",
       "       [2, 1],\n",
       "       [2, 1],\n",
       "       [2, 1],\n",
       "       [2, 1],\n",
       "       [2, 1],\n",
       "       [2, 1],\n",
       "       [2, 1],\n",
       "       [2, 1],\n",
       "       [2, 1],\n",
       "       [2, 1],\n",
       "       [2, 1],\n",
       "       [0, 1],\n",
       "       [2, 1],\n",
       "       [2, 1],\n",
       "       [2, 1],\n",
       "       [2, 1],\n",
       "       [2, 1],\n",
       "       [2, 1],\n",
       "       [2, 1],\n",
       "       [2, 1],\n",
       "       [2, 1],\n",
       "       [2, 1],\n",
       "       [2, 1],\n",
       "       [2, 1],\n",
       "       [2, 1],\n",
       "       [2, 1],\n",
       "       [2, 1],\n",
       "       [2, 1],\n",
       "       [2, 1],\n",
       "       [2, 1],\n",
       "       [2, 1],\n",
       "       [2, 1],\n",
       "       [2, 1],\n",
       "       [2, 1],\n",
       "       [0, 2],\n",
       "       [2, 2],\n",
       "       [0, 2],\n",
       "       [0, 2],\n",
       "       [0, 2],\n",
       "       [0, 2],\n",
       "       [2, 2],\n",
       "       [0, 2],\n",
       "       [0, 2],\n",
       "       [0, 2],\n",
       "       [0, 2],\n",
       "       [0, 2],\n",
       "       [0, 2],\n",
       "       [2, 2],\n",
       "       [2, 2],\n",
       "       [0, 2],\n",
       "       [0, 2],\n",
       "       [0, 2],\n",
       "       [0, 2],\n",
       "       [2, 2],\n",
       "       [0, 2],\n",
       "       [2, 2],\n",
       "       [0, 2],\n",
       "       [2, 2],\n",
       "       [0, 2],\n",
       "       [0, 2],\n",
       "       [2, 2],\n",
       "       [2, 2],\n",
       "       [0, 2],\n",
       "       [0, 2],\n",
       "       [0, 2],\n",
       "       [0, 2],\n",
       "       [0, 2],\n",
       "       [2, 2],\n",
       "       [0, 2],\n",
       "       [0, 2],\n",
       "       [0, 2],\n",
       "       [0, 2],\n",
       "       [2, 2],\n",
       "       [0, 2],\n",
       "       [0, 2],\n",
       "       [0, 2],\n",
       "       [2, 2],\n",
       "       [0, 2],\n",
       "       [0, 2],\n",
       "       [0, 2],\n",
       "       [2, 2],\n",
       "       [0, 2],\n",
       "       [0, 2],\n",
       "       [2, 2]])"
      ]
     },
     "execution_count": 92,
     "metadata": {},
     "output_type": "execute_result"
    }
   ],
   "source": [
    "confusion_x = np.zeros((3,3))\n",
    "confusion_xscaling = np.zeros((3,3))\n",
    "confusion_xss = np.zeros((3,3))\n",
    "for i in range(x.shape[0]):\n",
    "    confusion_x[x_GL[i], y[i]] += 1\n",
    "    confusion_xscaling[x_scalingGL[i], y[i]] += 1\n",
    "    confusion_xss[x_ssGL[i], y[i]] += 1\n",
    "\n",
    "\n",
    "np.concatenate((x_GL.reshape(-1,1), y.reshape(-1,1)), axis = 1)"
   ]
  },
  {
   "cell_type": "code",
   "execution_count": 98,
   "metadata": {},
   "outputs": [
    {
     "name": "stdout",
     "output_type": "stream",
     "text": [
      "k-means: raw x\n",
      "[[ 0.  3. 36.]\n",
      " [50.  0.  0.]\n",
      " [ 0. 47. 14.]]\n",
      "k-means: scaling\n",
      "[[ 0. 10. 42.]\n",
      " [ 0. 40.  8.]\n",
      " [50.  0.  0.]]\n",
      "k-means: standard score\n",
      "[[ 0. 38. 14.]\n",
      " [50.  0.  0.]\n",
      " [ 0. 12. 36.]]\n"
     ]
    }
   ],
   "source": [
    "print('k-means: raw x')\n",
    "print(confusion_x)\n",
    "print('k-means: scaling')\n",
    "print(confusion_xscaling)\n",
    "print('k-means: standard score')\n",
    "print(confusion_xss)"
   ]
  },
  {
   "cell_type": "markdown",
   "metadata": {},
   "source": [
    "# hw6- Q2"
   ]
  },
  {
   "cell_type": "code",
   "execution_count": 31,
   "metadata": {},
   "outputs": [
    {
     "name": "stdout",
     "output_type": "stream",
     "text": [
      "[[50.  0.  0.]\n",
      " [ 0. 47.  3.]\n",
      " [ 0.  3. 47.]]\n",
      "[[50.  0.  0.]\n",
      " [ 0. 46.  3.]\n",
      " [ 0.  4. 47.]]\n"
     ]
    }
   ],
   "source": [
    "confusion_1 = np.zeros((3,3))\n",
    "confusion_10 = np.zeros((3,3))\n",
    "# print(confusion)\n",
    "for i in range(x.shape[0]):\n",
    "    x2 = x[i, :]\n",
    "    y2 = y[i, ]\n",
    "    x1 = np.delete(x, i, 0)\n",
    "    y1 = np.delete(y, i, 0)\n",
    "    \n",
    "    confusion_1[knn(x2, x1, y1, 1),y2] += 1 \n",
    "    confusion_10[knn(x2, x1, y1, 10),y2] += 1 \n",
    "\n",
    "    \n",
    "print(confusion_1)\n",
    "print(confusion_10)"
   ]
  },
  {
   "cell_type": "code",
   "execution_count": 22,
   "metadata": {},
   "outputs": [
    {
     "name": "stdout",
     "output_type": "stream",
     "text": [
      "[[50.  0.  0.]\n",
      " [ 0. 47.  3.]\n",
      " [ 0.  3. 47.]]\n"
     ]
    },
    {
     "data": {
      "text/plain": [
       "(149,)"
      ]
     },
     "execution_count": 22,
     "metadata": {},
     "output_type": "execute_result"
    }
   ],
   "source": [
    "\n"
   ]
  }
 ],
 "metadata": {
  "kernelspec": {
   "display_name": "Python 3",
   "language": "python",
   "name": "python3"
  },
  "language_info": {
   "codemirror_mode": {
    "name": "ipython",
    "version": 3
   },
   "file_extension": ".py",
   "mimetype": "text/x-python",
   "name": "python",
   "nbconvert_exporter": "python",
   "pygments_lexer": "ipython3",
   "version": "3.7.7"
  }
 },
 "nbformat": 4,
 "nbformat_minor": 4
}
